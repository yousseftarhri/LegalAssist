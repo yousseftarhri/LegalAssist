{
 "cells": [
  {
   "cell_type": "code",
   "execution_count": 11,
   "id": "413fa6ce-90cf-4daf-aa12-ce83e46e3818",
   "metadata": {},
   "outputs": [
    {
     "name": "stdout",
     "output_type": "stream",
     "text": [
      "Note: you may need to restart the kernel to use updated packages.\n"
     ]
    }
   ],
   "source": [
    "%pip install --upgrade --quiet  langchain langchain-community langchainhub langchain-chroma "
   ]
  },
  {
   "cell_type": "code",
   "execution_count": 15,
   "id": "f9d75407-2eb8-4a7b-9238-9690c62552b3",
   "metadata": {},
   "outputs": [
    {
     "name": "stdout",
     "output_type": "stream",
     "text": [
      "Note: you may need to restart the kernel to use updated packages.\n"
     ]
    }
   ],
   "source": [
    "%pip install --upgrade --quiet langchain-openai"
   ]
  },
  {
   "cell_type": "code",
   "execution_count": 15,
   "id": "d0168eb5-3c57-4359-85b8-190fcfe6933d",
   "metadata": {},
   "outputs": [],
   "source": [
    "!pip install -qU langchain-google-vertexai"
   ]
  },
  {
   "cell_type": "code",
   "execution_count": 1,
   "id": "3ba121d3-eb41-4a43-81f5-d98c380f3581",
   "metadata": {
    "scrolled": true
   },
   "outputs": [
    {
     "name": "stdout",
     "output_type": "stream",
     "text": [
      "Defaulting to user installation because normal site-packages is not writeable\n",
      "Requirement already satisfied: pypdf in /home/youssef/.local/lib/python3.10/site-packages (4.0.1)\n"
     ]
    }
   ],
   "source": [
    "!pip install pypdf"
   ]
  },
  {
   "cell_type": "code",
   "execution_count": 1,
   "id": "c51fad36-b4f7-4ca1-b77e-5ae8c28877fa",
   "metadata": {},
   "outputs": [],
   "source": [
    "!pip install -qU langchain-google-vertexai"
   ]
  },
  {
   "cell_type": "code",
   "execution_count": 7,
   "id": "38e8b870-00c5-4e1c-8611-bdb2fdbfe4d7",
   "metadata": {},
   "outputs": [
    {
     "name": "stdout",
     "output_type": "stream",
     "text": [
      "Defaulting to user installation because normal site-packages is not writeable\n",
      "Collecting transformers==4.39.0\n",
      "  Using cached transformers-4.39.0-py3-none-any.whl (8.8 MB)\n",
      "Requirement already satisfied: huggingface-hub<1.0,>=0.19.3 in /home/youssef/.local/lib/python3.10/site-packages (from transformers==4.39.0) (0.23.0)\n",
      "Requirement already satisfied: pyyaml>=5.1 in /home/youssef/.local/lib/python3.10/site-packages (from transformers==4.39.0) (6.0.1)\n",
      "Requirement already satisfied: requests in /home/youssef/.local/lib/python3.10/site-packages (from transformers==4.39.0) (2.31.0)\n",
      "Collecting tokenizers<0.19,>=0.14\n",
      "  Downloading tokenizers-0.15.2-cp310-cp310-manylinux_2_17_x86_64.manylinux2014_x86_64.whl (3.6 MB)\n",
      "\u001b[2K     \u001b[38;2;114;156;31m━━━━━━━━━━━━━━━━━━━━━━━━━━━━━━━━━━━━━━━━\u001b[0m \u001b[32m3.6/3.6 MB\u001b[0m \u001b[31m1.8 MB/s\u001b[0m eta \u001b[36m0:00:00\u001b[0mm eta \u001b[36m0:00:01\u001b[0m0:01\u001b[0m:01\u001b[0m0m\n",
      "\u001b[?25hRequirement already satisfied: filelock in /home/youssef/.local/lib/python3.10/site-packages (from transformers==4.39.0) (3.13.1)\n",
      "Requirement already satisfied: packaging>=20.0 in /home/youssef/.local/lib/python3.10/site-packages (from transformers==4.39.0) (23.2)\n",
      "Requirement already satisfied: tqdm>=4.27 in /home/youssef/.local/lib/python3.10/site-packages (from transformers==4.39.0) (4.66.1)\n",
      "Collecting safetensors>=0.4.1\n",
      "  Downloading safetensors-0.4.3-cp310-cp310-manylinux_2_17_x86_64.manylinux2014_x86_64.whl (1.2 MB)\n",
      "\u001b[2K     \u001b[38;2;114;156;31m━━━━━━━━━━━━━━━━━━━━━━━━━━━━━━━━━━━━━━━━\u001b[0m \u001b[32m1.2/1.2 MB\u001b[0m \u001b[31m1.6 MB/s\u001b[0m eta \u001b[36m0:00:00\u001b[0m[36m0:00:01\u001b[0m[36m0:00:01\u001b[0m:01\u001b[0m\n",
      "\u001b[?25hRequirement already satisfied: regex!=2019.12.17 in /home/youssef/.local/lib/python3.10/site-packages (from transformers==4.39.0) (2023.12.25)\n",
      "Requirement already satisfied: numpy>=1.17 in /home/youssef/.local/lib/python3.10/site-packages (from transformers==4.39.0) (1.26.4)\n",
      "Requirement already satisfied: typing-extensions>=3.7.4.3 in /home/youssef/.local/lib/python3.10/site-packages (from huggingface-hub<1.0,>=0.19.3->transformers==4.39.0) (4.9.0)\n",
      "Requirement already satisfied: fsspec>=2023.5.0 in /home/youssef/.local/lib/python3.10/site-packages (from huggingface-hub<1.0,>=0.19.3->transformers==4.39.0) (2024.3.1)\n",
      "Requirement already satisfied: idna<4,>=2.5 in /usr/lib/python3/dist-packages (from requests->transformers==4.39.0) (3.3)\n",
      "Requirement already satisfied: urllib3<3,>=1.21.1 in /home/youssef/.local/lib/python3.10/site-packages (from requests->transformers==4.39.0) (2.1.0)\n",
      "Requirement already satisfied: charset-normalizer<4,>=2 in /home/youssef/.local/lib/python3.10/site-packages (from requests->transformers==4.39.0) (3.2.0)\n",
      "Requirement already satisfied: certifi>=2017.4.17 in /usr/lib/python3/dist-packages (from requests->transformers==4.39.0) (2020.6.20)\n",
      "Installing collected packages: safetensors, tokenizers, transformers\n",
      "  Attempting uninstall: tokenizers\n",
      "    Found existing installation: tokenizers 0.19.1\n",
      "    Uninstalling tokenizers-0.19.1:\n",
      "      Successfully uninstalled tokenizers-0.19.1\n",
      "Successfully installed safetensors-0.4.3 tokenizers-0.15.2 transformers-4.39.0\n"
     ]
    }
   ],
   "source": [
    "!pip install transformers==4.39.0"
   ]
  },
  {
   "cell_type": "code",
   "execution_count": 3,
   "id": "48a36a5a-4173-4bf9-be46-43bcd63fea01",
   "metadata": {},
   "outputs": [],
   "source": [
    "from dotenv import load_dotenv\n",
    "import os\n",
    "load_dotenv()\n",
    "\n",
    "openai_api_key = os.getenv('openai_api_key')\n",
    "google_api_key = os.getenv(\"GOOGLE_API_KEY\")"
   ]
  },
  {
   "cell_type": "markdown",
   "id": "8bd4060d-f97f-433d-9237-eb4b7938bc30",
   "metadata": {},
   "source": [
    "# 1. Indexing: Load"
   ]
  },
  {
   "cell_type": "code",
   "execution_count": 32,
   "id": "cd5aa680-eef4-4ffa-ab9b-c38132da4ce2",
   "metadata": {},
   "outputs": [],
   "source": [
    "from langchain_community.document_loaders import PyPDFLoader\n",
    "\n",
    "loader = PyPDFLoader(\"../data/loi.pdf\")\n",
    "data = loader.load()"
   ]
  },
  {
   "cell_type": "code",
   "execution_count": 33,
   "id": "c1d8c6cd-cee8-4ad5-aff2-4fa95d2942a7",
   "metadata": {},
   "outputs": [
    {
     "data": {
      "text/plain": [
       "33"
      ]
     },
     "execution_count": 33,
     "metadata": {},
     "output_type": "execute_result"
    }
   ],
   "source": [
    "len(data[0].page_content[:])"
   ]
  },
  {
   "cell_type": "markdown",
   "id": "724ecb26-dc60-4201-892e-aea8ddbbc9e4",
   "metadata": {},
   "source": [
    "# 2. Indexing: Split"
   ]
  },
  {
   "cell_type": "code",
   "execution_count": 6,
   "id": "019469b3-ded4-41b8-b8f7-c5a03ed39397",
   "metadata": {},
   "outputs": [],
   "source": [
    "from langchain_text_splitters import RecursiveCharacterTextSplitter\n",
    "\n",
    "text_splitter = RecursiveCharacterTextSplitter(\n",
    "    chunk_size=1000, chunk_overlap=200, add_start_index=True\n",
    ")\n",
    "all_splits = text_splitter.split_documents(data)"
   ]
  },
  {
   "cell_type": "code",
   "execution_count": 13,
   "id": "afc4faf8-345c-4f82-a8b8-63def58538c2",
   "metadata": {},
   "outputs": [
    {
     "data": {
      "text/plain": [
       "444"
      ]
     },
     "execution_count": 13,
     "metadata": {},
     "output_type": "execute_result"
    }
   ],
   "source": [
    "len(all_splits)"
   ]
  },
  {
   "cell_type": "markdown",
   "id": "cf13cdd7-9ede-4b7a-abce-6c99a3468a7c",
   "metadata": {},
   "source": [
    "# 3. Indexing: Store"
   ]
  },
  {
   "cell_type": "code",
   "execution_count": 7,
   "id": "86bc71c3-3c9c-4ceb-b04b-64173a27eaf7",
   "metadata": {},
   "outputs": [],
   "source": [
    "from langchain_chroma import Chroma\n",
    "from langchain_openai import OpenAIEmbeddings\n",
    "\n",
    "vectorstore = Chroma.from_documents(documents=all_splits, embedding=OpenAIEmbeddings(api_key=openai_api_key))"
   ]
  },
  {
   "cell_type": "markdown",
   "id": "72dfd5ae-8e6c-4fb0-9222-cc74122ecc38",
   "metadata": {},
   "source": [
    "# 4. Retrieval"
   ]
  },
  {
   "cell_type": "code",
   "execution_count": 8,
   "id": "26b089b2-c6a9-47d0-8028-20a72745d593",
   "metadata": {},
   "outputs": [],
   "source": [
    "retriever = vectorstore.as_retriever(search_type=\"similarity\", search_kwargs={\"k\": 6})\n",
    "retrieved_docs = retriever.invoke(\"القانون من خالف الضوء الاحمر\")"
   ]
  },
  {
   "cell_type": "code",
   "execution_count": 11,
   "id": "bd9b8da6-695e-456e-8b74-027f893450b0",
   "metadata": {},
   "outputs": [
    {
     "data": {
      "text/plain": [
       "6"
      ]
     },
     "execution_count": 11,
     "metadata": {},
     "output_type": "execute_result"
    }
   ],
   "source": [
    "len(retrieved_docs)"
   ]
  },
  {
   "cell_type": "code",
   "execution_count": 9,
   "id": "0efeaf0e-0b4c-4b0f-8ec5-621c863cac74",
   "metadata": {
    "scrolled": true
   },
   "outputs": [
    {
     "name": "stdout",
     "output_type": "stream",
     "text": [
      "6. إذا ارتكب إحدى المخالفات التالية : \n",
      "أ. عدم احترام الوقوف الإجباري المفروض بضوء تشوير احمر  ؛  \n",
      "ب. عدم احترام الوقوف الإجباري المفروض بعلامة \"قف\" Stop) ؛ \n",
      "ج. عدم احترام حق الأسبقية  ؛  \n",
      "د. التوقف غير القانوني ليلا ومن غير إنارة خارج تجمع عمراني   ؛  \n",
      "ه. عدم توفر المركبة على الح صارات المحددة بالنصوص التنظيمية  ؛  \n",
      "و. السير في الاتجاه الممنوع؛  \n",
      " \n",
      "138- أنظر  المادة  27 من المرسوم رقم2.10.311، السالف الذكر \n",
      "المادة 27 \n",
      "\"  لا يترتب استرجاع النقط على إلزامية الخضوع لدورة التربية على السلامة الطرقية التي يخضع لها صاحب  \n",
      "رخصة السياقة، تطبيقا لأحكام المواد 168 و170 و173 من القانون رقم52.05  السالف الذكر \n",
      "139 - تم تغيير وتتميم المادة169  أعلاه،  بمقتضى المادة الأولى من القانون رقم116.14، السالف الذكر\n"
     ]
    }
   ],
   "source": [
    "print(retrieved_docs[0].page_content)"
   ]
  },
  {
   "cell_type": "markdown",
   "id": "6d928ca4-23c4-463f-ad85-73898d5cea99",
   "metadata": {},
   "source": [
    "# 5. Generation"
   ]
  },
  {
   "cell_type": "code",
   "execution_count": 15,
   "id": "3a89b611-d028-4cc7-bfc3-dcf3bb5430c5",
   "metadata": {},
   "outputs": [],
   "source": [
    "from langchain_openai import ChatOpenAI\n",
    "\n",
    "llm = ChatOpenAI(model=\"gpt-3.5-turbo-0125\",openai_api_key=openai_api_key)"
   ]
  },
  {
   "cell_type": "code",
   "execution_count": 16,
   "id": "242817ad-59d1-4571-88f1-41b7c479efae",
   "metadata": {},
   "outputs": [],
   "source": [
    "from langchain import hub\n",
    "\n",
    "prompt = hub.pull(\"rlm/rag-prompt\")"
   ]
  },
  {
   "cell_type": "code",
   "execution_count": 17,
   "id": "7cbf34f6-6d77-41ed-b99d-31b0f8223ca0",
   "metadata": {},
   "outputs": [],
   "source": [
    "from langchain_core.output_parsers import StrOutputParser\n",
    "from langchain_core.runnables import RunnablePassthrough\n",
    "\n",
    "\n",
    "def format_docs(docs):\n",
    "    return \"\\n\\n\".join(doc.page_content for doc in docs)\n",
    "\n",
    "\n",
    "rag_chain = (\n",
    "    {\"context\": retriever | format_docs, \"question\": RunnablePassthrough()}\n",
    "    | prompt\n",
    "    | llm\n",
    "    | StrOutputParser()\n",
    ")"
   ]
  },
  {
   "cell_type": "code",
   "execution_count": 18,
   "id": "298b8078-5ae1-4832-aabc-d6fb53630319",
   "metadata": {},
   "outputs": [
    {
     "data": {
      "text/plain": [
       "'لا يترتب استرجاع النقط على إلزامية الخضوع لدورة التربية على السلامة الطرقية في حالة خرق مثل عدم احترام الوقوف الإجباري المفروض بضوء تشوير أحمر. المادة 27 من المرسوم رقم 2.10.311 تحدد العقوبات والإجراءات المتخذة في حالات المخالفات لقواعد السير على الطرق. توجه النيابة العامة المختصة إلى المصالح الجهوية أو الإقليمية لتبليغ القرارات القضائية داخل أجل 15 يوما.'"
      ]
     },
     "execution_count": 18,
     "metadata": {},
     "output_type": "execute_result"
    }
   ],
   "source": [
    "rag_chain.invoke(\"القانون من خالف الضوء الاحمر\")"
   ]
  },
  {
   "cell_type": "markdown",
   "id": "0e127c1f-f5af-43b2-ba69-cb5955572b98",
   "metadata": {},
   "source": [
    "DONE"
   ]
  },
  
  {
   "cell_type": "code",
   "execution_count": null,
   "id": "92d3f16a-7a01-4136-9e1d-d17ca8646fca",
   "metadata": {},
   "outputs": [],
   "source": []
  }
 ],
 "metadata": {
  "kernelspec": {
   "display_name": "Python 3 (ipykernel)",
   "language": "python",
   "name": "python3"
  },
  "language_info": {
   "codemirror_mode": {
    "name": "ipython",
    "version": 3
   },
   "file_extension": ".py",
   "mimetype": "text/x-python",
   "name": "python",
   "nbconvert_exporter": "python",
   "pygments_lexer": "ipython3",
   "version": "3.10.12"
  }
 },
 "nbformat": 4,
 "nbformat_minor": 5
}
